{
 "cells": [
  {
   "cell_type": "code",
   "execution_count": 1,
   "id": "26bd18b6",
   "metadata": {},
   "outputs": [],
   "source": [
    "import math\n",
    "import numpy as np\n",
    "from Value import Value\n",
    "from MLP import *\n",
    "from sklearn.datasets import fetch_openml\n",
    "import matplotlib.pyplot as plt\n",
    "%matplotlib inline"
   ]
  },
  {
   "cell_type": "code",
   "execution_count": 2,
   "id": "1d079559",
   "metadata": {},
   "outputs": [],
   "source": [
    "# loading dataset\n",
    "X, y = fetch_openml('mnist_784', version=1, return_X_y=True, as_frame=False)\n",
    "X = X / 255.0 # normalize pixels\n",
    "y = y.astype(int)"
   ]
  },
  {
   "cell_type": "code",
   "execution_count": 3,
   "id": "31c1417a",
   "metadata": {},
   "outputs": [
    {
     "data": {
      "text/plain": [
       "(56000, 784)"
      ]
     },
     "execution_count": 3,
     "metadata": {},
     "output_type": "execute_result"
    }
   ],
   "source": [
    "# splitting data\n",
    "np.random.seed(42)\n",
    "indices = np.random.permutation(len(X))\n",
    "split = int(0.8 * len(X))\n",
    "train_idx, test_idx = indices[:split], indices[split:]\n",
    "X_train, X_test, y_train, y_test = X[train_idx], X[test_idx], y[train_idx], y[test_idx]\n",
    "\n",
    "np.shape(X_train)"
   ]
  },
  {
   "cell_type": "code",
   "execution_count": 4,
   "id": "bede3727",
   "metadata": {},
   "outputs": [],
   "source": [
    "# ie. 4 = [0,0,0,0,1,0,0,0,0,0]\n",
    "def encode_labels(y):\n",
    "    one_hot = np.zeros((len(y), 10))\n",
    "    one_hot[np.arange(len(y)), y] = 1\n",
    "    return one_hot\n",
    "y_train_encoded = encode_labels(y_train)\n",
    "y_test_encoded = encode_labels(y_test)"
   ]
  },
  {
   "cell_type": "code",
   "execution_count": 5,
   "id": "8f2e3092",
   "metadata": {},
   "outputs": [],
   "source": [
    "# Model that will be used\n",
    "model = MLP(196, [64, 32, 10])"
   ]
  },
  {
   "cell_type": "code",
   "execution_count": 6,
   "id": "3f3be27a",
   "metadata": {},
   "outputs": [],
   "source": [
    "# using different loss function\n",
    "def softmax(logits):\n",
    "    exps = [x.exp() for x in logits]\n",
    "    sum_exps = sum(exps, Value(0))\n",
    "    probs = [e / sum_exps for e in exps]\n",
    "    return probs\n",
    "\n",
    "def cross_entropy_loss(logits, true_label):\n",
    "    probs = softmax(logits)\n",
    "    loss = Value(0)\n",
    "    for p, t in zip(probs, true_label):\n",
    "        if t == 1:\n",
    "            loss -= p.log()\n",
    "    return loss"
   ]
  },
  {
   "cell_type": "code",
   "execution_count": 7,
   "id": "6fac3a57",
   "metadata": {},
   "outputs": [],
   "source": [
    "def update_weights(model, base_lr, e, decay=0.96):\n",
    "    lr = base_lr * (decay ** e)\n",
    "    for p in model.parameters():\n",
    "         p.data += -lr * p.grad"
   ]
  },
  {
   "cell_type": "code",
   "execution_count": 8,
   "id": "c7ddc285",
   "metadata": {},
   "outputs": [],
   "source": [
    "from PIL import Image\n",
    "import numpy as np\n",
    "\n",
    "def resize_dataset(X, new_size=(14,14)):\n",
    "    resized_images = []\n",
    "    for img_array in X:\n",
    "        img = Image.fromarray(img_array)\n",
    "        img_small = img.resize(new_size, Image.Resampling.LANCZOS)\n",
    "        resized_images.append(np.array(img_small)) \n",
    "    return np.array(resized_images)"
   ]
  },
  {
   "cell_type": "code",
   "execution_count": 11,
   "id": "f160ea68",
   "metadata": {},
   "outputs": [
    {
     "name": "stdout",
     "output_type": "stream",
     "text": [
      "Epoch: 26, Loss: 1.3524259108072207\n",
      "Epoch: 27, Loss: 1.340797374785405\n",
      "Epoch: 28, Loss: 1.3262896825932062\n",
      "Epoch: 29, Loss: 1.3036682211355057\n",
      "Epoch: 30, Loss: 1.2853805441742288\n",
      "Epoch: 31, Loss: 1.2613890733299704\n",
      "Epoch: 32, Loss: 1.2800803802391847\n",
      "Epoch: 33, Loss: 1.2548047463885272\n",
      "Epoch: 34, Loss: 1.2377037367228227\n",
      "Epoch: 35, Loss: 1.246479296332746\n",
      "Epoch: 36, Loss: 1.2069004677443043\n",
      "Epoch: 37, Loss: 1.180867781070629\n",
      "Epoch: 38, Loss: 1.1941594524635193\n",
      "Epoch: 39, Loss: 1.1883555695244263\n",
      "Epoch: 40, Loss: 1.1519569070785027\n"
     ]
    }
   ],
   "source": [
    "# the training begins\n",
    "X_train = resize_dataset(X_train, (14, 14))\n",
    "X_test = resize_dataset(X_test, (14, 14))\n",
    "X_train = X_train[:1000]\n",
    "y_train_encoded = y_train_encoded[:1000]\n",
    "epochs = 40\n",
    "for epoch in range(25, epochs):\n",
    "    \n",
    "    total_loss = 0\n",
    "    for x, y_true in zip(X_train, y_train_encoded):\n",
    "        # forward pass\n",
    "        x_val = [Value(xi) for xi in np.ravel(x)]\n",
    "        y_pred = model(x_val)\n",
    "        loss = cross_entropy_loss(y_pred, y_true)\n",
    "\n",
    "        # zero gradients\n",
    "        model.zero_grad()\n",
    "\n",
    "        # backward pass\n",
    "        loss.backward()\n",
    "\n",
    "        # update weights\n",
    "        update_weights(model, base_lr=0.2, e=epoch)\n",
    "        total_loss += loss.data\n",
    "\n",
    "    print(f\"Epoch: {epoch + 1}, Loss: {total_loss / len((X_train))}\")"
   ]
  },
  {
   "cell_type": "code",
   "execution_count": 15,
   "id": "b2d317de",
   "metadata": {},
   "outputs": [
    {
     "name": "stdout",
     "output_type": "stream",
     "text": [
      "Test accuracy: 71.00%\n"
     ]
    }
   ],
   "source": [
    "correct = 0\n",
    "total = len(X_test[:1000])\n",
    "\n",
    "for x, y_true in zip(X_test[:1000], y_test[:1000]):\n",
    "    x_vals = [Value(xi) for xi in np.ravel(x)]\n",
    "    y_pred = model(x_vals)\n",
    "    pred_label = np.argmax([p.data for p in y_pred])\n",
    "    \n",
    "    if pred_label == y_true:\n",
    "        correct += 1\n",
    "\n",
    "accuracy = correct / total\n",
    "print(f\"Test accuracy: {accuracy * 100:.2f}%\")"
   ]
  },
  {
   "cell_type": "code",
   "execution_count": null,
   "id": "1189351e",
   "metadata": {},
   "outputs": [],
   "source": []
  }
 ],
 "metadata": {
  "kernelspec": {
   "display_name": "base",
   "language": "python",
   "name": "python3"
  },
  "language_info": {
   "codemirror_mode": {
    "name": "ipython",
    "version": 3
   },
   "file_extension": ".py",
   "mimetype": "text/x-python",
   "name": "python",
   "nbconvert_exporter": "python",
   "pygments_lexer": "ipython3",
   "version": "3.12.7"
  }
 },
 "nbformat": 4,
 "nbformat_minor": 5
}
