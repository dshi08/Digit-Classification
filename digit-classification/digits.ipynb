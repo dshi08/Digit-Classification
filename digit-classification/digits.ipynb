{
 "cells": [
  {
   "cell_type": "code",
   "execution_count": 1,
   "id": "26bd18b6",
   "metadata": {},
   "outputs": [],
   "source": [
    "import math\n",
    "import numpy as np\n",
    "from Value import Value\n",
    "from MLP import *\n",
    "from sklearn.datasets import fetch_openml\n",
    "import matplotlib.pyplot as plt\n",
    "%matplotlib inline"
   ]
  },
  {
   "cell_type": "code",
   "execution_count": 2,
   "id": "1d079559",
   "metadata": {},
   "outputs": [],
   "source": [
    "# loading dataset\n",
    "X, y = fetch_openml('mnist_784', version=1, return_X_y=True, as_frame=False)\n",
    "X = X / 255.0 # normalize pixels\n",
    "y = y.astype(int)"
   ]
  },
  {
   "cell_type": "code",
   "execution_count": 3,
   "id": "31c1417a",
   "metadata": {},
   "outputs": [
    {
     "data": {
      "text/plain": [
       "(56000, 784)"
      ]
     },
     "execution_count": 3,
     "metadata": {},
     "output_type": "execute_result"
    }
   ],
   "source": [
    "# splitting data\n",
    "np.random.seed(42)\n",
    "indices = np.random.permutation(len(X))\n",
    "split = int(0.8 * len(X))\n",
    "train_idx, test_idx = indices[:split], indices[split:]\n",
    "X_train, X_test, y_train, y_test = X[train_idx], X[test_idx], y[train_idx], y[test_idx]\n",
    "\n",
    "np.shape(X_train)"
   ]
  },
  {
   "cell_type": "code",
   "execution_count": 4,
   "id": "bede3727",
   "metadata": {},
   "outputs": [],
   "source": [
    "# ie. 4 = [0,0,0,0,1,0,0,0,0,0]\n",
    "def encode_labels(y):\n",
    "    one_hot = np.zeros((len(y), 10))\n",
    "    one_hot[np.arange(len(y)), y] = 1\n",
    "    return one_hot\n",
    "y_train_encoded = encode_labels(y_train)\n",
    "y_test_encoded = encode_labels(y_test)"
   ]
  },
  {
   "cell_type": "code",
   "execution_count": 5,
   "id": "8f2e3092",
   "metadata": {},
   "outputs": [],
   "source": [
    "# Model that will be used\n",
    "model = MLP(196, [64, 32, 10])"
   ]
  },
  {
   "cell_type": "code",
   "execution_count": 6,
   "id": "3f3be27a",
   "metadata": {},
   "outputs": [],
   "source": [
    "# using different loss function\n",
    "def softmax(logits):\n",
    "    exps = [x.exp() for x in logits]\n",
    "    sum_exps = sum(exps, Value(0))\n",
    "    probs = [e / sum_exps for e in exps]\n",
    "    return probs\n",
    "\n",
    "def cross_entropy_loss(logits, true_label):\n",
    "    probs = softmax(logits)\n",
    "    loss = Value(0)\n",
    "    for p, t in zip(probs, true_label):\n",
    "        if t == 1:\n",
    "            loss -= p.log()\n",
    "    return loss"
   ]
  },
  {
   "cell_type": "code",
   "execution_count": 7,
   "id": "6fac3a57",
   "metadata": {},
   "outputs": [],
   "source": [
    "def update_weights(model, base_lr, e, decay=0.96):\n",
    "    lr = base_lr * (decay ** e)\n",
    "    for p in model.parameters():\n",
    "         p.data += -lr * p.grad"
   ]
  },
  {
   "cell_type": "code",
   "execution_count": 8,
   "id": "c7ddc285",
   "metadata": {},
   "outputs": [],
   "source": [
    "from PIL import Image\n",
    "import numpy as np\n",
    "\n",
    "def resize_dataset(X, new_size=(14,14)):\n",
    "    resized_images = []\n",
    "    for img_array in X:\n",
    "        img = Image.fromarray(img_array)\n",
    "        img_small = img.resize(new_size, Image.Resampling.LANCZOS)\n",
    "        resized_images.append(np.array(img_small)) \n",
    "    return np.array(resized_images)"
   ]
  },
  {
   "cell_type": "code",
   "execution_count": 9,
   "id": "f160ea68",
   "metadata": {},
   "outputs": [
    {
     "name": "stdout",
     "output_type": "stream",
     "text": [
      "Epoch: 1, Loss: 2.2454805343543205\n",
      "Epoch: 2, Loss: 2.0232444748754665\n",
      "Epoch: 3, Loss: 1.7693693496854408\n",
      "Epoch: 4, Loss: 1.7799512900885743\n",
      "Epoch: 5, Loss: 1.7285176814106158\n",
      "Epoch: 6, Loss: 1.7502250647151925\n",
      "Epoch: 7, Loss: 1.6498328222736915\n",
      "Epoch: 8, Loss: 1.6203661782618106\n",
      "Epoch: 9, Loss: 1.6000600966102032\n",
      "Epoch: 10, Loss: 1.5859353882264737\n",
      "Epoch: 11, Loss: 1.5449178988880528\n",
      "Epoch: 12, Loss: 1.5765309994075867\n",
      "Epoch: 13, Loss: 1.498767041947442\n",
      "Epoch: 14, Loss: 1.505951049846193\n",
      "Epoch: 15, Loss: 1.4792164467840363\n",
      "Epoch: 16, Loss: 1.461747570380834\n",
      "Epoch: 17, Loss: 1.4866997657120464\n",
      "Epoch: 18, Loss: 1.4880395745628714\n",
      "Epoch: 19, Loss: 1.4295851511780222\n",
      "Epoch: 20, Loss: 1.4430259377564132\n",
      "Epoch: 21, Loss: 1.4283028523018284\n",
      "Epoch: 22, Loss: 1.4236325692250325\n",
      "Epoch: 23, Loss: 1.3975621678404415\n",
      "Epoch: 24, Loss: 1.3729332112476222\n",
      "Epoch: 25, Loss: 1.3571698259395797\n"
     ]
    }
   ],
   "source": [
    "# the training begins\n",
    "X_train = resize_dataset(X_train, (14, 14))\n",
    "X_test = resize_dataset(X_test, (14, 14))\n",
    "X_train = X_train[:1000]\n",
    "y_train_encoded = y_train_encoded[:1000]\n",
    "epochs = 25\n",
    "for epoch in range(epochs):\n",
    "    \n",
    "    total_loss = 0\n",
    "    for x, y_true in zip(X_train, y_train_encoded):\n",
    "        # forward pass\n",
    "        x_val = [Value(xi) for xi in np.ravel(x)]\n",
    "        y_pred = model(x_val)\n",
    "        loss = cross_entropy_loss(y_pred, y_true)\n",
    "\n",
    "        # zero gradients\n",
    "        model.zero_grad()\n",
    "\n",
    "        # backward pass\n",
    "        loss.backward()\n",
    "\n",
    "        # update weights\n",
    "        update_weights(model, base_lr=0.2, e=epoch)\n",
    "        total_loss += loss.data\n",
    "\n",
    "    print(f\"Epoch: {epoch + 1}, Loss: {total_loss / len((X_train))}\")"
   ]
  },
  {
   "cell_type": "code",
   "execution_count": null,
   "id": "ca072634",
   "metadata": {},
   "outputs": [],
   "source": []
  }
 ],
 "metadata": {
  "kernelspec": {
   "display_name": "base",
   "language": "python",
   "name": "python3"
  },
  "language_info": {
   "codemirror_mode": {
    "name": "ipython",
    "version": 3
   },
   "file_extension": ".py",
   "mimetype": "text/x-python",
   "name": "python",
   "nbconvert_exporter": "python",
   "pygments_lexer": "ipython3",
   "version": "3.12.7"
  }
 },
 "nbformat": 4,
 "nbformat_minor": 5
}
